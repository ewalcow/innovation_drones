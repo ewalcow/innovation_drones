{
 "cells": [
  {
   "cell_type": "markdown",
   "id": "9776eccd",
   "metadata": {},
   "source": [
    "Set Up Your Environment"
   ]
  },
  {
   "cell_type": "code",
   "execution_count": 1,
   "id": "4064e83b",
   "metadata": {},
   "outputs": [
    {
     "name": "stdout",
     "output_type": "stream",
     "text": [
      "Requirement already satisfied: pandas in c:\\users\\elaine\\anaconda3\\lib\\site-packages (2.1.4)\n",
      "Requirement already satisfied: numpy in c:\\users\\elaine\\anaconda3\\lib\\site-packages (1.26.4)\n",
      "Requirement already satisfied: scikit-learn in c:\\users\\elaine\\anaconda3\\lib\\site-packages (1.2.2)\n",
      "Requirement already satisfied: matplotlib in c:\\users\\elaine\\anaconda3\\lib\\site-packages (3.8.0)\n",
      "Requirement already satisfied: python-dateutil>=2.8.2 in c:\\users\\elaine\\anaconda3\\lib\\site-packages (from pandas) (2.8.2)\n",
      "Requirement already satisfied: pytz>=2020.1 in c:\\users\\elaine\\anaconda3\\lib\\site-packages (from pandas) (2023.3.post1)\n",
      "Requirement already satisfied: tzdata>=2022.1 in c:\\users\\elaine\\anaconda3\\lib\\site-packages (from pandas) (2023.3)\n",
      "Requirement already satisfied: scipy>=1.3.2 in c:\\users\\elaine\\anaconda3\\lib\\site-packages (from scikit-learn) (1.11.4)\n",
      "Requirement already satisfied: joblib>=1.1.1 in c:\\users\\elaine\\anaconda3\\lib\\site-packages (from scikit-learn) (1.2.0)\n",
      "Requirement already satisfied: threadpoolctl>=2.0.0 in c:\\users\\elaine\\anaconda3\\lib\\site-packages (from scikit-learn) (2.2.0)\n",
      "Requirement already satisfied: contourpy>=1.0.1 in c:\\users\\elaine\\anaconda3\\lib\\site-packages (from matplotlib) (1.2.0)\n",
      "Requirement already satisfied: cycler>=0.10 in c:\\users\\elaine\\anaconda3\\lib\\site-packages (from matplotlib) (0.11.0)\n",
      "Requirement already satisfied: fonttools>=4.22.0 in c:\\users\\elaine\\anaconda3\\lib\\site-packages (from matplotlib) (4.25.0)\n",
      "Requirement already satisfied: kiwisolver>=1.0.1 in c:\\users\\elaine\\anaconda3\\lib\\site-packages (from matplotlib) (1.4.4)\n",
      "Requirement already satisfied: packaging>=20.0 in c:\\users\\elaine\\anaconda3\\lib\\site-packages (from matplotlib) (23.1)\n",
      "Requirement already satisfied: pillow>=6.2.0 in c:\\users\\elaine\\anaconda3\\lib\\site-packages (from matplotlib) (10.2.0)\n",
      "Requirement already satisfied: pyparsing>=2.3.1 in c:\\users\\elaine\\anaconda3\\lib\\site-packages (from matplotlib) (3.0.9)\n",
      "Requirement already satisfied: six>=1.5 in c:\\users\\elaine\\anaconda3\\lib\\site-packages (from python-dateutil>=2.8.2->pandas) (1.16.0)\n",
      "Note: you may need to restart the kernel to use updated packages.\n"
     ]
    }
   ],
   "source": [
    "%pip install pandas numpy scikit-learn matplotlib\n"
   ]
  },
  {
   "cell_type": "markdown",
   "id": "d4aa550a",
   "metadata": {},
   "source": [
    "# Código em Jupyter para Gráficos de Radar e Barras"
   ]
  },
  {
   "cell_type": "code",
   "execution_count": 10,
   "id": "b3c22fbd",
   "metadata": {},
   "outputs": [
    {
     "name": "stdout",
     "output_type": "stream",
     "text": [
      "Primeiras linhas do dataframe:\n",
      "                             Objetivo do Site Survey  \\\n",
      "0            Qual é a finalidade do uso dos drones?    \n",
      "1  Quais são os dados que precisam ser coletados ...   \n",
      "2                            Localização geográfica:   \n",
      "3                                    Área do projeto   \n",
      "4                                    Tipo de terreno   \n",
      "\n",
      "                                          Ambiente\\n  Virtual\\n(SIM / NÃO)  \\\n",
      "0  monitoramento ambiental, coleta de dados geoes...                   NaN   \n",
      "1                                                NaN                   NaN   \n",
      "2         Latitude e longitude do local de operação.                   NaN   \n",
      "3  Qual é o tamanho da área que será coberta pelo...                   NaN   \n",
      "4          Urbano, rural, montanhoso, aquático, etc.                   NaN   \n",
      "\n",
      "   Versão / Detalhamento   Obs  \n",
      "0                     NaN  NaN  \n",
      "1                     NaN  NaN  \n",
      "2                     NaN  NaN  \n",
      "3                     NaN  NaN  \n",
      "4                     NaN  NaN  \n",
      "\n",
      "Colunas disponíveis:\n",
      "Index(['Objetivo do Site Survey', 'Ambiente\\n', 'Virtual\\n(SIM / NÃO)',\n",
      "       'Versão / Detalhamento ', 'Obs'],\n",
      "      dtype='object')\n",
      "\n",
      "Tipos de dados:\n",
      "Objetivo do Site Survey     object\n",
      "Ambiente\\n                  object\n",
      "Virtual\\n(SIM / NÃO)       float64\n",
      "Versão / Detalhamento      float64\n",
      "Obs                        float64\n",
      "dtype: object\n",
      "\n",
      "Colunas numéricas disponíveis:\n",
      "Index(['Virtual\\n(SIM / NÃO)', 'Versão / Detalhamento ', 'Obs'], dtype='object')\n",
      "\n",
      "Não há colunas numéricas suficientes para fazer a modelagem.\n"
     ]
    }
   ],
   "source": [
    "# Importando bibliotecas necessárias\n",
    "import pandas as pd\n",
    "import numpy as np\n",
    "import matplotlib.pyplot as plt\n",
    "import seaborn as sns\n",
    "from sklearn.model_selection import train_test_split\n",
    "from sklearn.ensemble import RandomForestRegressor\n",
    "from sklearn.metrics import mean_squared_error\n",
    "\n",
    "# Carregando o arquivo Excel\n",
    "file_path = r'C:\\Users\\Elaine\\Downloads\\inova_drones\\Survey_cangerana\\Survey_DRONES_14_01_25_CORONEL_CANGERANA.xlsx'\n",
    "\n",
    "# Tentando ler o arquivo pulando as primeiras linhas que parecem conter metadados\n",
    "df = pd.read_excel(file_path, engine='openpyxl', skiprows=5)\n",
    "\n",
    "# Mostrando as primeiras linhas e colunas\n",
    "print(\"Primeiras linhas do dataframe:\")\n",
    "print(df.head())\n",
    "print(\"\\nColunas disponíveis:\")\n",
    "print(df.columns)\n",
    "\n",
    "# Removendo apenas linhas completamente vazias\n",
    "df_cleaned = df.dropna(how='all')\n",
    "\n",
    "# Mostrando os tipos de dados para identificar colunas numéricas\n",
    "print(\"\\nTipos de dados:\")\n",
    "print(df_cleaned.dtypes)\n",
    "\n",
    "# Selecionando apenas colunas numéricas\n",
    "df_numericas = df_cleaned.select_dtypes(include=[np.number])\n",
    "print(\"\\nColunas numéricas disponíveis:\")\n",
    "print(df_numericas.columns)\n",
    "\n",
    "# Verificando se temos colunas suficientes para modelagem\n",
    "if df_numericas.shape[1] >= 4:\n",
    "    # Pegando as 3 primeiras como features e a 4ª como target (você pode ajustar conforme necessário)\n",
    "    feature_columns = df_numericas.columns[:3].tolist()\n",
    "    target_column = df_numericas.columns[3]\n",
    "\n",
    "    X = df_numericas[feature_columns]\n",
    "    y = df_numericas[target_column]\n",
    "\n",
    "    # Dividindo os dados em conjuntos de treino e teste\n",
    "    X_train, X_test, y_train, y_test = train_test_split(X, y, test_size=0.2, random_state=42)\n",
    "\n",
    "    # Treinando o modelo\n",
    "    model = RandomForestRegressor(n_estimators=100, random_state=42)\n",
    "    model.fit(X_train, y_train)\n",
    "\n",
    "    # Fazendo previsões\n",
    "    y_pred = model.predict(X_test)\n",
    "    mse = mean_squared_error(y_test, y_pred)\n",
    "    print(f'\\nMean Squared Error: {mse:.2f}')\n",
    "\n",
    "    # Gráfico de barra\n",
    "    plt.figure(figsize=(10, 6))\n",
    "    sns.barplot(x=np.arange(len(y_test)), y=y_test.values, color='blue', label='Valores Reais')\n",
    "    sns.barplot(x=np.arange(len(y_pred)), y=y_pred, color='red', alpha=0.6, label='Valores Preditos')\n",
    "    plt.xlabel('Índice')\n",
    "    plt.ylabel('Valores')\n",
    "    plt.title('Valores Reais vs. Valores Preditos')\n",
    "    plt.legend()\n",
    "    plt.show()\n",
    "\n",
    "    # Gráfico de radar com a média das features\n",
    "    labels = np.array(feature_columns)\n",
    "    stats = X.mean(axis=0).values\n",
    "    stats = np.concatenate((stats, [stats[0]]))  # Fecha o gráfico\n",
    "\n",
    "    angles = np.linspace(0, 2 * np.pi, len(labels), endpoint=False).tolist()\n",
    "    angles += angles[:1]\n",
    "\n",
    "    fig, ax = plt.subplots(figsize=(6, 6), subplot_kw=dict(polar=True))\n",
    "    ax.fill(angles, stats, color='red', alpha=0.25)\n",
    "    ax.plot(angles, stats, color='red', linewidth=2)\n",
    "\n",
    "    ax.set_yticklabels([])\n",
    "    ax.set_xticks(angles[:-1])\n",
    "    ax.set_xticklabels(labels)\n",
    "\n",
    "    plt.title('Gráfico de Radar das Features')\n",
    "    plt.show()\n",
    "else:\n",
    "    print(\"\\nNão há colunas numéricas suficientes para fazer a modelagem.\")\n"
   ]
  },
  {
   "cell_type": "markdown",
   "id": "3bdb9bba",
   "metadata": {},
   "source": [
    "# Exemplo de código que analisa e plota"
   ]
  },
  {
   "cell_type": "code",
   "execution_count": null,
   "id": "b7ae0d0c",
   "metadata": {},
   "outputs": [],
   "source": [
    "import pandas as pd\n",
    "import matplotlib.pyplot as plt\n",
    "import seaborn as sns\n",
    "from wordcloud import WordCloud, STOPWORDS\n",
    "\n",
    "# Garante a exibição dos gráficos no Jupyter Notebook\n",
    "%matplotlib inline\n",
    "\n",
    "# Carregando o arquivo\n",
    "file_path = r'C:\\Users\\Elaine\\Downloads\\inova_drones\\Survey_cangerana\\Survey_DRONES_14_01_25_CORONEL_CANGERANA.xlsx'\n",
    "df = pd.read_excel(file_path, engine='openpyxl', skiprows=5)\n",
    "\n",
    "# Limpando espaços e quebras de linha nos nomes das colunas\n",
    "df.columns = df.columns.str.strip().str.replace('\\n', '', regex=False)\n",
    "\n",
    "# Verificando colunas disponíveis\n",
    "print(\"Colunas disponíveis:\", df.columns.tolist())\n",
    "\n",
    "# Gráfico 1: Contagem da coluna \"Virtual (SIM / NÃO)\"\n",
    "col_virtual = 'Virtual(SIM / NÃO)'  # Coluna já tratada acima\n",
    "\n",
    "if col_virtual in df.columns:\n",
    "    plt.figure(figsize=(6, 4))\n",
    "    sns.countplot(x=df[col_virtual].dropna(), palette='Set2')\n",
    "    plt.title('Distribuição de respostas: Virtual (SIM / NÃO)')\n",
    "    plt.xlabel('Resposta')\n",
    "    plt.ylabel('Contagem')\n",
    "    plt.tight_layout()\n",
    "    plt.savefig(\"grafico_virtual.png\")  # Salva o gráfico como imagem\n",
    "    plt.show()\n",
    "else:\n",
    "    print(f\"⚠️ Coluna '{col_virtual}' não encontrada.\")\n",
    "\n",
    "# Gráfico 2: Nuvem de palavras da coluna \"Objetivo do Site Survey\"\n",
    "col_objetivo = 'Objetivo do Site Survey'\n",
    "\n",
    "if col_objetivo in df.columns:\n",
    "    texto = ' '.join(str(resposta) for resposta in df[col_objetivo].dropna())\n",
    "    stopwords = set(STOPWORDS)\n",
    "    wordcloud = WordCloud(width=800, height=400, background_color='white',\n",
    "                          stopwords=stopwords, colormap='viridis').generate(texto)\n",
    "\n",
    "    plt.figure(figsize=(10, 5))\n",
    "    plt.imshow(wordcloud, interpolation='bilinear')\n",
    "    plt.axis('off')\n",
    "    plt.title('Nuvem de Palavras: Objetivo do Site Survey')\n",
    "    plt.tight_layout()\n",
    "    wordcloud.to_file(\"nuvem_palavras.png\")  # Salva como imagem\n",
    "    plt.show()\n",
    "else:\n",
    "    print(f\"⚠️ Coluna '{col_objetivo}' não encontrada.\")\n"
   ]
  },
  {
   "cell_type": "code",
   "execution_count": null,
   "id": "9c5e2eb7",
   "metadata": {},
   "outputs": [
    {
     "name": "stdout",
     "output_type": "stream",
     "text": [
      "Collecting wordcloud\n",
      "  Downloading wordcloud-1.9.4-cp311-cp311-win_amd64.whl.metadata (3.5 kB)\n",
      "Requirement already satisfied: numpy>=1.6.1 in c:\\users\\elaine\\anaconda3\\lib\\site-packages (from wordcloud) (1.26.4)\n",
      "Requirement already satisfied: pillow in c:\\users\\elaine\\anaconda3\\lib\\site-packages (from wordcloud) (10.2.0)\n",
      "Requirement already satisfied: matplotlib in c:\\users\\elaine\\anaconda3\\lib\\site-packages (from wordcloud) (3.8.0)\n",
      "Requirement already satisfied: contourpy>=1.0.1 in c:\\users\\elaine\\anaconda3\\lib\\site-packages (from matplotlib->wordcloud) (1.2.0)\n",
      "Requirement already satisfied: cycler>=0.10 in c:\\users\\elaine\\anaconda3\\lib\\site-packages (from matplotlib->wordcloud) (0.11.0)\n",
      "Requirement already satisfied: fonttools>=4.22.0 in c:\\users\\elaine\\anaconda3\\lib\\site-packages (from matplotlib->wordcloud) (4.25.0)\n",
      "Requirement already satisfied: kiwisolver>=1.0.1 in c:\\users\\elaine\\anaconda3\\lib\\site-packages (from matplotlib->wordcloud) (1.4.4)\n",
      "Requirement already satisfied: packaging>=20.0 in c:\\users\\elaine\\anaconda3\\lib\\site-packages (from matplotlib->wordcloud) (23.1)\n",
      "Requirement already satisfied: pyparsing>=2.3.1 in c:\\users\\elaine\\anaconda3\\lib\\site-packages (from matplotlib->wordcloud) (3.0.9)\n",
      "Requirement already satisfied: python-dateutil>=2.7 in c:\\users\\elaine\\anaconda3\\lib\\site-packages (from matplotlib->wordcloud) (2.8.2)\n",
      "Requirement already satisfied: six>=1.5 in c:\\users\\elaine\\anaconda3\\lib\\site-packages (from python-dateutil>=2.7->matplotlib->wordcloud) (1.16.0)\n",
      "Downloading wordcloud-1.9.4-cp311-cp311-win_amd64.whl (299 kB)\n",
      "   ---------------------------------------- 0.0/299.9 kB ? eta -:--:--\n",
      "   - -------------------------------------- 10.2/299.9 kB ? eta -:--:--\n",
      "   - -------------------------------------- 10.2/299.9 kB ? eta -:--:--\n",
      "   --- ----------------------------------- 30.7/299.9 kB 217.9 kB/s eta 0:00:02\n",
      "   ------- ------------------------------- 61.4/299.9 kB 363.1 kB/s eta 0:00:01\n",
      "   ----------- --------------------------- 92.2/299.9 kB 438.1 kB/s eta 0:00:01\n",
      "   ------------------- ------------------ 153.6/299.9 kB 612.6 kB/s eta 0:00:01\n",
      "   ------------------------- ------------ 204.8/299.9 kB 655.1 kB/s eta 0:00:01\n",
      "   ------------------------------------ - 286.7/299.9 kB 803.7 kB/s eta 0:00:01\n",
      "   -------------------------------------- 299.9/299.9 kB 772.5 kB/s eta 0:00:00\n",
      "Installing collected packages: wordcloud\n",
      "Successfully installed wordcloud-1.9.4\n",
      "Note: you may need to restart the kernel to use updated packages.\n"
     ]
    }
   ],
   "source": [
    "%pip install wordcloud"
   ]
  },
  {
   "cell_type": "code",
   "execution_count": 18,
   "id": "c409ab3f",
   "metadata": {},
   "outputs": [],
   "source": [
    "from wordcloud import WordCloud, STOPWORDS\n"
   ]
  },
  {
   "cell_type": "code",
   "execution_count": 21,
   "id": "6d576805",
   "metadata": {},
   "outputs": [
    {
     "name": "stdout",
     "output_type": "stream",
     "text": [
      "Colunas disponíveis: ['Objetivo do Site Survey', 'Ambiente', 'Virtual(SIM / NÃO)', 'Versão / Detalhamento', 'Obs']\n"
     ]
    },
    {
     "ename": "ValueError",
     "evalue": "min() arg is an empty sequence",
     "output_type": "error",
     "traceback": [
      "\u001b[1;31m---------------------------------------------------------------------------\u001b[0m",
      "\u001b[1;31mValueError\u001b[0m                                Traceback (most recent call last)",
      "Cell \u001b[1;32mIn[21], line 24\u001b[0m\n\u001b[0;32m     22\u001b[0m \u001b[38;5;28;01mif\u001b[39;00m col_virtual \u001b[38;5;129;01min\u001b[39;00m df\u001b[38;5;241m.\u001b[39mcolumns:\n\u001b[0;32m     23\u001b[0m     plt\u001b[38;5;241m.\u001b[39mfigure(figsize\u001b[38;5;241m=\u001b[39m(\u001b[38;5;241m6\u001b[39m, \u001b[38;5;241m4\u001b[39m))\n\u001b[1;32m---> 24\u001b[0m     sns\u001b[38;5;241m.\u001b[39mcountplot(x\u001b[38;5;241m=\u001b[39mdf[col_virtual]\u001b[38;5;241m.\u001b[39mdropna(), palette\u001b[38;5;241m=\u001b[39m\u001b[38;5;124m'\u001b[39m\u001b[38;5;124mSet2\u001b[39m\u001b[38;5;124m'\u001b[39m)\n\u001b[0;32m     25\u001b[0m     plt\u001b[38;5;241m.\u001b[39mtitle(\u001b[38;5;124m'\u001b[39m\u001b[38;5;124mDistribuição de respostas: Virtual (SIM / NÃO)\u001b[39m\u001b[38;5;124m'\u001b[39m)\n\u001b[0;32m     26\u001b[0m     plt\u001b[38;5;241m.\u001b[39mxlabel(\u001b[38;5;124m'\u001b[39m\u001b[38;5;124mResposta\u001b[39m\u001b[38;5;124m'\u001b[39m)\n",
      "File \u001b[1;32mc:\\Users\\Elaine\\anaconda3\\Lib\\site-packages\\seaborn\\categorical.py:2943\u001b[0m, in \u001b[0;36mcountplot\u001b[1;34m(data, x, y, hue, order, hue_order, orient, color, palette, saturation, width, dodge, ax, **kwargs)\u001b[0m\n\u001b[0;32m   2940\u001b[0m \u001b[38;5;28;01melif\u001b[39;00m x \u001b[38;5;129;01mis\u001b[39;00m \u001b[38;5;129;01mnot\u001b[39;00m \u001b[38;5;28;01mNone\u001b[39;00m \u001b[38;5;129;01mand\u001b[39;00m y \u001b[38;5;129;01mis\u001b[39;00m \u001b[38;5;129;01mnot\u001b[39;00m \u001b[38;5;28;01mNone\u001b[39;00m:\n\u001b[0;32m   2941\u001b[0m     \u001b[38;5;28;01mraise\u001b[39;00m \u001b[38;5;167;01mValueError\u001b[39;00m(\u001b[38;5;124m\"\u001b[39m\u001b[38;5;124mCannot pass values for both `x` and `y`\u001b[39m\u001b[38;5;124m\"\u001b[39m)\n\u001b[1;32m-> 2943\u001b[0m plotter \u001b[38;5;241m=\u001b[39m _CountPlotter(\n\u001b[0;32m   2944\u001b[0m     x, y, hue, data, order, hue_order,\n\u001b[0;32m   2945\u001b[0m     estimator, errorbar, n_boot, units, seed,\n\u001b[0;32m   2946\u001b[0m     orient, color, palette, saturation,\n\u001b[0;32m   2947\u001b[0m     width, errcolor, errwidth, capsize, dodge\n\u001b[0;32m   2948\u001b[0m )\n\u001b[0;32m   2950\u001b[0m plotter\u001b[38;5;241m.\u001b[39mvalue_label \u001b[38;5;241m=\u001b[39m \u001b[38;5;124m\"\u001b[39m\u001b[38;5;124mcount\u001b[39m\u001b[38;5;124m\"\u001b[39m\n\u001b[0;32m   2952\u001b[0m \u001b[38;5;28;01mif\u001b[39;00m ax \u001b[38;5;129;01mis\u001b[39;00m \u001b[38;5;28;01mNone\u001b[39;00m:\n",
      "File \u001b[1;32mc:\\Users\\Elaine\\anaconda3\\Lib\\site-packages\\seaborn\\categorical.py:1532\u001b[0m, in \u001b[0;36m_BarPlotter.__init__\u001b[1;34m(self, x, y, hue, data, order, hue_order, estimator, errorbar, n_boot, units, seed, orient, color, palette, saturation, width, errcolor, errwidth, capsize, dodge)\u001b[0m\n\u001b[0;32m   1529\u001b[0m \u001b[38;5;250m\u001b[39m\u001b[38;5;124;03m\"\"\"Initialize the plotter.\"\"\"\u001b[39;00m\n\u001b[0;32m   1530\u001b[0m \u001b[38;5;28mself\u001b[39m\u001b[38;5;241m.\u001b[39mestablish_variables(x, y, hue, data, orient,\n\u001b[0;32m   1531\u001b[0m                          order, hue_order, units)\n\u001b[1;32m-> 1532\u001b[0m \u001b[38;5;28mself\u001b[39m\u001b[38;5;241m.\u001b[39mestablish_colors(color, palette, saturation)\n\u001b[0;32m   1533\u001b[0m \u001b[38;5;28mself\u001b[39m\u001b[38;5;241m.\u001b[39mestimate_statistic(estimator, errorbar, n_boot, seed)\n\u001b[0;32m   1535\u001b[0m \u001b[38;5;28mself\u001b[39m\u001b[38;5;241m.\u001b[39mdodge \u001b[38;5;241m=\u001b[39m dodge\n",
      "File \u001b[1;32mc:\\Users\\Elaine\\anaconda3\\Lib\\site-packages\\seaborn\\categorical.py:707\u001b[0m, in \u001b[0;36m_CategoricalPlotter.establish_colors\u001b[1;34m(self, color, palette, saturation)\u001b[0m\n\u001b[0;32m    705\u001b[0m \u001b[38;5;66;03m# Determine the gray color to use for the lines framing the plot\u001b[39;00m\n\u001b[0;32m    706\u001b[0m light_vals \u001b[38;5;241m=\u001b[39m [rgb_to_hls(\u001b[38;5;241m*\u001b[39mc)[\u001b[38;5;241m1\u001b[39m] \u001b[38;5;28;01mfor\u001b[39;00m c \u001b[38;5;129;01min\u001b[39;00m rgb_colors]\n\u001b[1;32m--> 707\u001b[0m lum \u001b[38;5;241m=\u001b[39m \u001b[38;5;28mmin\u001b[39m(light_vals) \u001b[38;5;241m*\u001b[39m \u001b[38;5;241m.6\u001b[39m\n\u001b[0;32m    708\u001b[0m gray \u001b[38;5;241m=\u001b[39m mpl\u001b[38;5;241m.\u001b[39mcolors\u001b[38;5;241m.\u001b[39mrgb2hex((lum, lum, lum))\n\u001b[0;32m    710\u001b[0m \u001b[38;5;66;03m# Assign object attributes\u001b[39;00m\n",
      "\u001b[1;31mValueError\u001b[0m: min() arg is an empty sequence"
     ]
    },
    {
     "data": {
      "text/plain": [
       "<Figure size 600x400 with 0 Axes>"
      ]
     },
     "metadata": {},
     "output_type": "display_data"
    }
   ],
   "source": [
    "import pandas as pd\n",
    "import matplotlib.pyplot as plt\n",
    "import seaborn as sns\n",
    "from wordcloud import WordCloud, STOPWORDS\n",
    "\n",
    "# Garante a exibição dos gráficos no Jupyter Notebook\n",
    "%matplotlib inline\n",
    "\n",
    "# Carregando o arquivo\n",
    "file_path = r'C:\\Users\\Elaine\\Downloads\\inova_drones\\Survey_cangerana\\Survey_DRONES_14_01_25_CORONEL_CANGERANA.xlsx'\n",
    "df = pd.read_excel(file_path, engine='openpyxl', skiprows=5)\n",
    "\n",
    "# Limpando espaços e quebras de linha nos nomes das colunas\n",
    "df.columns = df.columns.str.strip().str.replace('\\n', '', regex=False)\n",
    "\n",
    "# Verificando colunas disponíveis\n",
    "print(\"Colunas disponíveis:\", df.columns.tolist())\n",
    "\n",
    "# Gráfico 1: Contagem da coluna \"Virtual (SIM / NÃO)\"\n",
    "col_virtual = 'Virtual(SIM / NÃO)'  # Coluna já tratada acima\n",
    "\n",
    "if col_virtual in df.columns:\n",
    "    plt.figure(figsize=(6, 4))\n",
    "    sns.countplot(x=df[col_virtual].dropna(), palette='Set2')\n",
    "    plt.title('Distribuição de respostas: Virtual (SIM / NÃO)')\n",
    "    plt.xlabel('Resposta')\n",
    "    plt.ylabel('Contagem')\n",
    "    plt.tight_layout()\n",
    "    plt.savefig(\"grafico_virtual.png\")  # Salva o gráfico como imagem\n",
    "    plt.show()\n",
    "else:\n",
    "    print(f\"⚠️ Coluna '{col_virtual}' não encontrada.\")\n",
    "\n",
    "# Gráfico 2: Nuvem de palavras da coluna \"Objetivo do Site Survey\"\n",
    "col_objetivo = 'Objetivo do Site Survey'\n",
    "\n",
    "if col_objetivo in df.columns:\n",
    "    texto = ' '.join(str(resposta) for resposta in df[col_objetivo].dropna())\n",
    "    stopwords = set(STOPWORDS)\n",
    "    wordcloud = WordCloud(width=800, height=400, background_color='white',\n",
    "                          stopwords=stopwords, colormap='viridis').generate(texto)\n",
    "\n",
    "    plt.figure(figsize=(10, 5))\n",
    "    plt.imshow(wordcloud, interpolation='bilinear')\n",
    "    plt.axis('off')\n",
    "    plt.title('Nuvem de Palavras: Objetivo do Site Survey')\n",
    "    plt.tight_layout()\n",
    "    wordcloud.to_file(\"nuvem_palavras.png\")  # Salva como imagem\n",
    "    plt.show()\n",
    "else:\n",
    "    print(f\"⚠️ Coluna '{col_objetivo}' não encontrada.\")"
   ]
  },
  {
   "cell_type": "code",
   "execution_count": 20,
   "id": "c2b29f4a",
   "metadata": {},
   "outputs": [
    {
     "name": "stdout",
     "output_type": "stream",
     "text": [
      "⚠️ A coluna 'Virtual(SIM / NÃO)' está vazia ou só contém valores nulos.\n"
     ]
    }
   ],
   "source": [
    "col_virtual = 'Virtual(SIM / NÃO)'\n",
    "\n",
    "if col_virtual in df.columns:\n",
    "    dados_validos = df[col_virtual].dropna()\n",
    "    if not dados_validos.empty:\n",
    "        plt.figure(figsize=(6, 4))\n",
    "        sns.countplot(x=dados_validos, palette='Set2')\n",
    "        plt.title('Distribuição de respostas: Virtual (SIM / NÃO)')\n",
    "        plt.xlabel('Resposta')\n",
    "        plt.ylabel('Contagem')\n",
    "        plt.tight_layout()\n",
    "        plt.savefig(\"grafico_virtual.png\")\n",
    "        plt.show()\n",
    "    else:\n",
    "        print(f\"⚠️ A coluna '{col_virtual}' está vazia ou só contém valores nulos.\")\n",
    "else:\n",
    "    print(f\"⚠️ Coluna '{col_virtual}' não encontrada no DataFrame.\")\n"
   ]
  },
  {
   "cell_type": "markdown",
   "id": "20f753c2",
   "metadata": {},
   "source": [
    "# A planilha (Survey_DRONES_14_01_25_CORONEL_CANGERANA.xlsx) esta base de dados possui dados nulos que não podem ser tratados ou correlaciona-los"
   ]
  }
 ],
 "metadata": {
  "kernelspec": {
   "display_name": "base",
   "language": "python",
   "name": "python3"
  },
  "language_info": {
   "codemirror_mode": {
    "name": "ipython",
    "version": 3
   },
   "file_extension": ".py",
   "mimetype": "text/x-python",
   "name": "python",
   "nbconvert_exporter": "python",
   "pygments_lexer": "ipython3",
   "version": "3.11.7"
  }
 },
 "nbformat": 4,
 "nbformat_minor": 5
}
